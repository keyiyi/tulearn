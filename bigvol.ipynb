{
 "cells": [
  {
   "cell_type": "code",
   "execution_count": 1,
   "metadata": {
    "collapsed": true
   },
   "outputs": [],
   "source": [
    "#coding:utf-8\n",
    "import tushare as ts\n",
    "from datetime import datetime,timedelta\n",
    "import numpy as np\n",
    "import pandas as pd\n",
    "import matplotlib.pyplot as plt\n",
    "from matplotlib.ticker import FuncFormatter"
   ]
  },
  {
   "cell_type": "code",
   "execution_count": 2,
   "metadata": {
    "collapsed": true
   },
   "outputs": [],
   "source": [
    "%matplotlib inline"
   ]
  },
  {
   "cell_type": "code",
   "execution_count": 3,
   "metadata": {},
   "outputs": [
    {
     "name": "stdout",
     "output_type": "stream",
     "text": [
      "[Getting data:]############################################################"
     ]
    }
   ],
   "source": [
    "market_today = ts.get_today_all()"
   ]
  },
  {
   "cell_type": "code",
   "execution_count": 4,
   "metadata": {
    "collapsed": true,
    "scrolled": true
   },
   "outputs": [],
   "source": [
    "by_amount = market_today.sort_values(by = 'amount',ascending = False)[:800]\n",
    "by_percent = market_today.sort_values(by = 'changepercent',ascending = False)[:800]"
   ]
  },
  {
   "cell_type": "code",
   "execution_count": 5,
   "metadata": {
    "collapsed": true
   },
   "outputs": [],
   "source": [
    "all_stock = ts.get_stock_basics()"
   ]
  },
  {
   "cell_type": "code",
   "execution_count": 45,
   "metadata": {},
   "outputs": [
    {
     "data": {
      "text/html": [
       "<div>\n",
       "<style>\n",
       "    .dataframe thead tr:only-child th {\n",
       "        text-align: right;\n",
       "    }\n",
       "\n",
       "    .dataframe thead th {\n",
       "        text-align: left;\n",
       "    }\n",
       "\n",
       "    .dataframe tbody tr th {\n",
       "        vertical-align: top;\n",
       "    }\n",
       "</style>\n",
       "<table border=\"1\" class=\"dataframe\">\n",
       "  <thead>\n",
       "    <tr style=\"text-align: right;\">\n",
       "      <th></th>\n",
       "      <th>code</th>\n",
       "      <th>name</th>\n",
       "      <th>changepercent</th>\n",
       "      <th>trade</th>\n",
       "      <th>open</th>\n",
       "      <th>high</th>\n",
       "      <th>low</th>\n",
       "      <th>settlement</th>\n",
       "      <th>volume</th>\n",
       "      <th>turnoverratio</th>\n",
       "      <th>amount</th>\n",
       "      <th>per</th>\n",
       "      <th>pb</th>\n",
       "      <th>mktcap</th>\n",
       "      <th>nmc</th>\n",
       "    </tr>\n",
       "  </thead>\n",
       "  <tbody>\n",
       "    <tr>\n",
       "      <th>1505</th>\n",
       "      <td>300577</td>\n",
       "      <td>开润股份</td>\n",
       "      <td>1.742</td>\n",
       "      <td>74.17</td>\n",
       "      <td>71.850</td>\n",
       "      <td>76.98</td>\n",
       "      <td>71.850</td>\n",
       "      <td>72.900</td>\n",
       "      <td>986741.0</td>\n",
       "      <td>2.78587</td>\n",
       "      <td>74081782.0</td>\n",
       "      <td>66.820</td>\n",
       "      <td>18.362</td>\n",
       "      <td>895697.094240</td>\n",
       "      <td>262706.698512</td>\n",
       "    </tr>\n",
       "    <tr>\n",
       "      <th>3450</th>\n",
       "      <td>900930</td>\n",
       "      <td>*ST沪普B</td>\n",
       "      <td>1.737</td>\n",
       "      <td>0.41</td>\n",
       "      <td>0.403</td>\n",
       "      <td>0.42</td>\n",
       "      <td>0.403</td>\n",
       "      <td>0.403</td>\n",
       "      <td>198502.0</td>\n",
       "      <td>0.15906</td>\n",
       "      <td>81649.0</td>\n",
       "      <td>-0.332</td>\n",
       "      <td>0.252</td>\n",
       "      <td>15671.238817</td>\n",
       "      <td>5116.800000</td>\n",
       "    </tr>\n",
       "  </tbody>\n",
       "</table>\n",
       "</div>"
      ],
      "text/plain": [
       "        code    name  changepercent  trade    open   high     low  settlement  \\\n",
       "1505  300577    开润股份          1.742  74.17  71.850  76.98  71.850      72.900   \n",
       "3450  900930  *ST沪普B          1.737   0.41   0.403   0.42   0.403       0.403   \n",
       "\n",
       "        volume  turnoverratio      amount     per      pb         mktcap  \\\n",
       "1505  986741.0        2.78587  74081782.0  66.820  18.362  895697.094240   \n",
       "3450  198502.0        0.15906     81649.0  -0.332   0.252   15671.238817   \n",
       "\n",
       "                nmc  \n",
       "1505  262706.698512  \n",
       "3450    5116.800000  "
      ]
     },
     "execution_count": 45,
     "metadata": {},
     "output_type": "execute_result"
    }
   ],
   "source": [
    "by_percent.iloc[370:372]"
   ]
  },
  {
   "cell_type": "code",
   "execution_count": 46,
   "metadata": {},
   "outputs": [
    {
     "data": {
      "text/plain": [
       "3512"
      ]
     },
     "execution_count": 46,
     "metadata": {},
     "output_type": "execute_result"
    }
   ],
   "source": [
    "len(market_today)"
   ]
  },
  {
   "cell_type": "markdown",
   "metadata": {
    "collapsed": true
   },
   "source": [
    "industry_list = list(all_stock['industry'])\n",
    "industry = set(industry_list)\n",
    "#print(len(industry))\n",
    "#print(industry)"
   ]
  },
  {
   "cell_type": "code",
   "execution_count": 6,
   "metadata": {
    "collapsed": true
   },
   "outputs": [],
   "source": [
    "def numbers_industry():\n",
    "    #count number of very industry \n",
    "    industry_list = list(all_stock['industry'])\n",
    "    industries = set(industry_list)\n",
    "    numbers_dict = {}\n",
    "    for i in industries:\n",
    "        companies = all_stock[all_stock['industry'] == i]\n",
    "        num = len(companies)\n",
    "        numbers_dict[i] = num\n",
    "    return numbers_dict"
   ]
  },
  {
   "cell_type": "code",
   "execution_count": 73,
   "metadata": {
    "collapsed": true
   },
   "outputs": [],
   "source": [
    "def count_industry(information):\n",
    "    #input a group of codes ,and count thier industry number\n",
    "    industry_list = []\n",
    "    for i in list(information['code']):\n",
    "        industry = all_stock[all_stock.index == i]['industry'].values\n",
    "        if industry.size > 0:\n",
    "            industry_list.append(list(industry)[0])\n",
    "        else:\n",
    "            pass\n",
    "        \n",
    "    count_basic = []\n",
    "    for i in industry_list:\n",
    "        if i not in count_basic:\n",
    "            count_basic.append(i)\n",
    "\n",
    "    count_dict2= {}\n",
    "    for i in count_basic:\n",
    "        count = industry_list.count(i)\n",
    "        count_dict2[i] = count\n",
    "    return count_dict2"
   ]
  },
  {
   "cell_type": "code",
   "execution_count": 75,
   "metadata": {
    "collapsed": true
   },
   "outputs": [],
   "source": [
    "def count_industry2(information_df):\n",
    "    #improve (upgrade) for counting amount in industry\n",
    "    industry_dict = {}\n",
    "    amount_dict = {}\n",
    "    for i in list(information_df['code']):\n",
    "        industry = all_stock[all_stock.index == i]['industry'].values\n",
    "        #industry_list.append(list(industry)[0])\n",
    "        if industry.size >0:\n",
    "            industry_dict[i] = list(industry)[0]          \n",
    "            #e.g {'000001': '银行','000006': '区域地产','000023': '其他建材',}\n",
    "            amount = list(information_df[information_df['code']==i]['amount'])[0]\n",
    "            amount_dict[i] = amount\n",
    "    count_basic = []  #a list of name of industry\n",
    "    for i in list(industry_dict.values()):\n",
    "        if i not in count_basic:\n",
    "            count_basic.append(i)\n",
    "\n",
    "    codes_combi = {\n",
    "        'industry':pd.Series(industry_dict,index = list(industry_dict.keys())),\n",
    "        'amount':pd.Series(amount_dict,index = list(amount_dict.keys()))\n",
    "    }\n",
    "    codes_df = pd.DataFrame(codes_combi)\n",
    "    \n",
    "    \n",
    "    count_dict2= {}      #a dict of number of every industy\n",
    "    amount_of_industry = {}   #a dict of total amount of every industry\n",
    "    for i in count_basic:\n",
    "        #count = list(industry_dict.values()).count(i)\n",
    "        count = len(codes_df[codes_df['industry'] == i])\n",
    "        count_dict2[i] = count\n",
    "        amounts = codes_df[codes_df['industry'] == i]['amount'].sum()\n",
    "        amount_of_industry[i] = amounts\n",
    "        \n",
    "        \n",
    "    return count_dict2,amount_of_industry\n",
    "    \n",
    "    "
   ]
  },
  {
   "cell_type": "markdown",
   "metadata": {
    "collapsed": true
   },
   "source": [
    "count_industry(by_percent[:372])"
   ]
  },
  {
   "cell_type": "markdown",
   "metadata": {},
   "source": [
    "test_dict = count_industry2(by_percent)  # when return count_dict2 only\n",
    "test_dict2= count_industry(by_percent)\n",
    "set(test_dict) == set(test_dict2)"
   ]
  },
  {
   "cell_type": "code",
   "execution_count": 76,
   "metadata": {},
   "outputs": [],
   "source": [
    "count_percent,amount_percent = count_industry2(by_percent)"
   ]
  },
  {
   "cell_type": "code",
   "execution_count": 77,
   "metadata": {
    "collapsed": true
   },
   "outputs": [],
   "source": [
    "count_vol,amount_vol = count_industry2(by_amount)"
   ]
  },
  {
   "cell_type": "markdown",
   "metadata": {
    "collapsed": true
   },
   "source": [
    "all_industry = {}\n",
    "for i in industry:\n",
    "    count = industry_list.count(i)\n",
    "    all_industry[i] = count\n",
    "#print(all_industry)\n",
    "#print(sum(all_industry.values()),'of',len(industry_list))"
   ]
  },
  {
   "cell_type": "markdown",
   "metadata": {
    "collapsed": true
   },
   "source": [
    "count_amount = count_industry(by_amount)\n",
    "count_amount"
   ]
  },
  {
   "cell_type": "markdown",
   "metadata": {
    "collapsed": true
   },
   "source": [
    "names =[]\n",
    "values = []\n",
    "for i,k in count_amount.items():\n",
    "    if k >5:\n",
    "        names.append(i)\n",
    "        values.append(k)"
   ]
  },
  {
   "cell_type": "code",
   "execution_count": 78,
   "metadata": {
    "collapsed": true
   },
   "outputs": [],
   "source": [
    "def make_plot(code_dict,bias = 10):\n",
    "    names =[]\n",
    "    values = []\n",
    "    for i,k in code_dict.items():\n",
    "        if k >bias:\n",
    "            names.append(i)\n",
    "            values.append(k)\n",
    "    plt.rcParams['font.sans-serif']=['SimHei']   #正常显示中文\n",
    "    plt.rcParams['axes.unicode_minus']=False\n",
    "    #plt.style.use('fivethirtyeight')\n",
    "    fig,ax = plt.subplots(figsize=(12, 7.5))\n",
    "    #fig(figsize = (10,6))\n",
    "    ax.barh(names,values)\n",
    "    #ax.set(xlabel = '股票个数',ylabel='行业',title ='各行业上榜数量')"
   ]
  },
  {
   "cell_type": "code",
   "execution_count": 79,
   "metadata": {},
   "outputs": [
    {
     "data": {
      "image/png": "[encoded data removed]",
      "text/plain": [
       "<Figure size 864x540 with 1 Axes>"
      ]
     },
     "metadata": {},
     "output_type": "display_data"
    }
   ],
   "source": [
    "make_plot(count_industry(by_percent))"
   ]
  },
  {
   "cell_type": "code",
   "execution_count": 80,
   "metadata": {},
   "outputs": [
    {
     "data": {
      "image/png": "[encoded data removed]",
      "text/plain": [
       "<Figure size 864x540 with 1 Axes>"
      ]
     },
     "metadata": {},
     "output_type": "display_data"
    }
   ],
   "source": [
    "make_plot(count_percent)"
   ]
  },
  {
   "cell_type": "code",
   "execution_count": 81,
   "metadata": {},
   "outputs": [
    {
     "data": {
      "image/png": "[encoded data removed]",
      "text/plain": [
       "<Figure size 864x540 with 1 Axes>"
      ]
     },
     "metadata": {},
     "output_type": "display_data"
    }
   ],
   "source": [
    "make_plot(amount_percent,900000000)"
   ]
  },
  {
   "cell_type": "code",
   "execution_count": 22,
   "metadata": {},
   "outputs": [
    {
     "data": {
      "text/plain": [
       "3514"
      ]
     },
     "execution_count": 22,
     "metadata": {},
     "output_type": "execute_result"
    }
   ],
   "source": [
    "numbers_dict = numbers_industry()\n",
    "#sum(numbers_dict.values())"
   ]
  },
  {
   "cell_type": "code",
   "execution_count": null,
   "metadata": {
    "collapsed": true
   },
   "outputs": [],
   "source": []
  }
 ],
 "metadata": {
  "kernelspec": {
   "display_name": "Python 3",
   "language": "python",
   "name": "python3"
  },
  "language_info": {
   "codemirror_mode": {
    "name": "ipython",
    "version": 3
   },
   "file_extension": ".py",
   "mimetype": "text/x-python",
   "name": "python",
   "nbconvert_exporter": "python",
   "pygments_lexer": "ipython3",
   "version": "3.6.1"
  }
 },
 "nbformat": 4,
 "nbformat_minor": 2
}
