{
 "cells": [
  {
   "cell_type": "code",
   "execution_count": 1,
   "metadata": {
    "collapsed": true
   },
   "outputs": [],
   "source": [
    "#coding:utf-8\n",
    "import tushare as ts\n",
    "from datetime import datetime,timedelta\n",
    "import numpy as np\n",
    "import matplotlib.pyplot as plt\n",
    "from matplotlib.ticker import FuncFormatter"
   ]
  },
  {
   "cell_type": "code",
   "execution_count": 2,
   "metadata": {
    "collapsed": true
   },
   "outputs": [],
   "source": [
    "%matplotlib inline"
   ]
  },
  {
   "cell_type": "code",
   "execution_count": 3,
   "metadata": {},
   "outputs": [
    {
     "name": "stdout",
     "output_type": "stream",
     "text": [
      "[Getting data:]############################################################"
     ]
    }
   ],
   "source": [
    "market_today = ts.get_today_all()"
   ]
  },
  {
   "cell_type": "code",
   "execution_count": 4,
   "metadata": {
    "collapsed": true,
    "scrolled": true
   },
   "outputs": [],
   "source": [
    "by_amount = market_today.sort_values(by = 'amount',ascending = False)[:300]\n",
    "by_percent = market_today.sort_values(by = 'changepercent',ascending = False)[:300]"
   ]
  },
  {
   "cell_type": "code",
   "execution_count": null,
   "metadata": {
    "collapsed": true
   },
   "outputs": [],
   "source": [
    "all_stock = ts.get_stock_basics()"
   ]
  },
  {
   "cell_type": "code",
   "execution_count": 6,
   "metadata": {
    "collapsed": true
   },
   "outputs": [],
   "source": [
    "def count_industry(information):\n",
    "    industry_list = []\n",
    "    for i in list(information['code']):\n",
    "        industry = all_stock[all_stock.index == i]['industry'].values\n",
    "        industry_list.append(list(industry)[0])\n",
    "    count_basic = []\n",
    "    for i in industry_list:\n",
    "        if i not in count_basic:\n",
    "            count_basic.append(i)\n",
    "\n",
    "    count_dict2= {}\n",
    "    for i in count_basic:\n",
    "        count = industry_list.count(i)\n",
    "        count_dict2[i] = count\n",
    "    return count_dict2"
   ]
  },
  {
   "cell_type": "code",
   "execution_count": 7,
   "metadata": {},
   "outputs": [
    {
     "data": {
      "text/plain": [
       "{'专用机械': 8,\n",
       " '中成药': 5,\n",
       " '互联网': 3,\n",
       " '仓储物流': 1,\n",
       " '保险': 1,\n",
       " '元器件': 10,\n",
       " '全国地产': 2,\n",
       " '公共交通': 1,\n",
       " '其他建材': 1,\n",
       " '农药化肥': 3,\n",
       " '出版业': 5,\n",
       " '化学制药': 20,\n",
       " '化工原料': 9,\n",
       " '化纤': 5,\n",
       " '区域地产': 8,\n",
       " '医疗保健': 8,\n",
       " '医药商业': 1,\n",
       " '半导体': 2,\n",
       " '商贸代理': 2,\n",
       " '啤酒': 2,\n",
       " '园区开发': 1,\n",
       " '塑料': 5,\n",
       " '多元金融': 1,\n",
       " '家居用品': 1,\n",
       " '家用电器': 3,\n",
       " '小金属': 5,\n",
       " '工程机械': 2,\n",
       " '广告包装': 3,\n",
       " '建筑施工': 6,\n",
       " '影视音像': 4,\n",
       " '房产服务': 1,\n",
       " '批发业': 1,\n",
       " '文教休闲': 5,\n",
       " '新型电力': 1,\n",
       " '日用化工': 1,\n",
       " '普钢': 12,\n",
       " '服饰': 2,\n",
       " '机械基件': 6,\n",
       " '染料涂料': 3,\n",
       " '水力发电': 1,\n",
       " '水泥': 2,\n",
       " '水运': 3,\n",
       " '汽车整车': 1,\n",
       " '汽车服务': 2,\n",
       " '汽车配件': 10,\n",
       " '渔业': 1,\n",
       " '火力发电': 1,\n",
       " '焦炭加工': 1,\n",
       " '煤炭开采': 9,\n",
       " '特种钢': 2,\n",
       " '环境保护': 2,\n",
       " '玻璃': 3,\n",
       " '生物制药': 2,\n",
       " '电器仪表': 3,\n",
       " '电气设备': 15,\n",
       " '电脑设备': 5,\n",
       " '百货': 4,\n",
       " '石油加工': 2,\n",
       " '石油开采': 2,\n",
       " '矿物制品': 4,\n",
       " '空运': 4,\n",
       " '纺织': 5,\n",
       " '综合类': 3,\n",
       " '船舶': 1,\n",
       " '装修装饰': 4,\n",
       " '证券': 1,\n",
       " '软件服务': 13,\n",
       " '软饮料': 1,\n",
       " '通信设备': 8,\n",
       " '造纸': 3,\n",
       " '钢加工': 1,\n",
       " '铅锌': 1,\n",
       " '铜': 2,\n",
       " '铝': 4,\n",
       " '银行': 7,\n",
       " '食品': 6,\n",
       " '饲料': 1}"
      ]
     },
     "execution_count": 7,
     "metadata": {},
     "output_type": "execute_result"
    }
   ],
   "source": [
    "count_percent = count_industry(by_percent)\n",
    "count_percent"
   ]
  },
  {
   "cell_type": "code",
   "execution_count": 11,
   "metadata": {},
   "outputs": [
    {
     "ename": "AttributeError",
     "evalue": "'dict' object has no attribute 'sort'",
     "output_type": "error",
     "traceback": [
      "\u001b[1;31m---------------------------------------------------------------------------\u001b[0m",
      "\u001b[1;31mAttributeError\u001b[0m                            Traceback (most recent call last)",
      "\u001b[1;32m<ipython-input-11-f257e3a19c63>\u001b[0m in \u001b[0;36m<module>\u001b[1;34m()\u001b[0m\n\u001b[0;32m      1\u001b[0m \u001b[0mcount_amount\u001b[0m \u001b[1;33m=\u001b[0m \u001b[0mcount_industry\u001b[0m\u001b[1;33m(\u001b[0m\u001b[0mby_amount\u001b[0m\u001b[1;33m)\u001b[0m\u001b[1;33m\u001b[0m\u001b[0m\n\u001b[1;32m----> 2\u001b[1;33m \u001b[0mcount_amount\u001b[0m\u001b[1;33m.\u001b[0m\u001b[0msort\u001b[0m\u001b[1;33m(\u001b[0m\u001b[1;33m)\u001b[0m\u001b[1;33m\u001b[0m\u001b[0m\n\u001b[0m",
      "\u001b[1;31mAttributeError\u001b[0m: 'dict' object has no attribute 'sort'"
     ]
    }
   ],
   "source": [
    "count_amount = count_industry(by_amount)\n",
    "count_amount"
   ]
  },
  {
   "cell_type": "code",
   "execution_count": 18,
   "metadata": {
    "collapsed": true
   },
   "outputs": [],
   "source": [
    "names =[]\n",
    "values = []\n",
    "for i,k in count_amount.items():\n",
    "    if k >5:\n",
    "        names.append(i)\n",
    "        values.append(k)"
   ]
  },
  {
   "cell_type": "code",
   "execution_count": 20,
   "metadata": {
    "collapsed": true
   },
   "outputs": [],
   "source": [
    "plt.rcParams['font.sans-serif']=['SimHei'] \n",
    "plt.rcParams['axes.unicode_minus']=False"
   ]
  },
  {
   "cell_type": "code",
   "execution_count": 21,
   "metadata": {},
   "outputs": [
    {
     "data": {
      "text/plain": [
       "<BarContainer object of 12 artists>"
      ]
     },
     "execution_count": 21,
     "metadata": {},
     "output_type": "execute_result"
    },
    {
     "data": {
      "image/png": "[encoded data removed]",
      "text/plain": [
       "<Figure size 432x288 with 1 Axes>"
      ]
     },
     "metadata": {},
     "output_type": "display_data"
    }
   ],
   "source": [
    "fig,ax = plt.subplots()\n",
    "ax.barh(names,values)"
   ]
  },
  {
   "cell_type": "code",
   "execution_count": null,
   "metadata": {
    "collapsed": true
   },
   "outputs": [],
   "source": []
  }
 ],
 "metadata": {
  "kernelspec": {
   "display_name": "Python 3",
   "language": "python",
   "name": "python3"
  },
  "language_info": {
   "codemirror_mode": {
    "name": "ipython",
    "version": 3
   },
   "file_extension": ".py",
   "mimetype": "text/x-python",
   "name": "python",
   "nbconvert_exporter": "python",
   "pygments_lexer": "ipython3",
   "version": "3.6.1"
  }
 },
 "nbformat": 4,
 "nbformat_minor": 2
}
