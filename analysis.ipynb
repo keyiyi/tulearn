{
 "cells": [
  {
   "cell_type": "code",
   "execution_count": 1,
   "metadata": {
    "collapsed": true
   },
   "outputs": [],
   "source": [
    "import json\n",
    "import os\n",
    "from datetime import datetime"
   ]
  },
  {
   "cell_type": "code",
   "execution_count": 2,
   "metadata": {},
   "outputs": [
    {
     "data": {
      "text/plain": [
       "'D:\\\\pythox\\\\tushare\\\\newt'"
      ]
     },
     "execution_count": 2,
     "metadata": {},
     "output_type": "execute_result"
    }
   ],
   "source": [
    "os.getcwd()"
   ]
  },
  {
   "cell_type": "code",
   "execution_count": 10,
   "metadata": {},
   "outputs": [
    {
     "data": {
      "text/plain": [
       "['.idea',\n",
       " '.ipynb_checkpoints',\n",
       " '18-04-03dmd.json',\n",
       " 'diff_and_ma.py',\n",
       " 'diff_and_ma_2.py',\n",
       " 'diff_ma_kdj_0.py',\n",
       " 'hs300.json',\n",
       " 'information_mongo.py',\n",
       " 'kdj_test.py',\n",
       " 'Untitled.ipynb',\n",
       " 'utility.py',\n",
       " 'zz500.json',\n",
       " '__pycache__']"
      ]
     },
     "execution_count": 10,
     "metadata": {},
     "output_type": "execute_result"
    }
   ],
   "source": [
    "os.listdir()"
   ]
  },
  {
   "cell_type": "code",
   "execution_count": 5,
   "metadata": {},
   "outputs": [
    {
     "data": {
      "text/plain": [
       "'18-04-09'"
      ]
     },
     "execution_count": 5,
     "metadata": {},
     "output_type": "execute_result"
    }
   ],
   "source": [
    "today = datetime.today().strftime('%y-%m-%d')\n",
    "today"
   ]
  },
  {
   "cell_type": "code",
   "execution_count": 6,
   "metadata": {
    "collapsed": true
   },
   "outputs": [],
   "source": [
    "\n",
    "for i in os.listdir():\n",
    "    if '18' in i:\n",
    "        filename = i"
   ]
  },
  {
   "cell_type": "code",
   "execution_count": 7,
   "metadata": {},
   "outputs": [
    {
     "data": {
      "text/plain": [
       "'18-04-09dmd.json'"
      ]
     },
     "execution_count": 7,
     "metadata": {},
     "output_type": "execute_result"
    }
   ],
   "source": [
    "filename"
   ]
  },
  {
   "cell_type": "code",
   "execution_count": 8,
   "metadata": {
    "collapsed": true
   },
   "outputs": [],
   "source": [
    "with open(filename,'r') as f:\n",
    "    date = json.load(f)"
   ]
  },
  {
   "cell_type": "code",
   "execution_count": 10,
   "metadata": {},
   "outputs": [],
   "source": [
    "kd_codes = date['kd_codes']\n",
    "ma_codes = date['ma_codes']\n",
    "macd_codes = date['macd']"
   ]
  },
  {
   "cell_type": "code",
   "execution_count": 12,
   "metadata": {},
   "outputs": [
    {
     "name": "stdout",
     "output_type": "stream",
     "text": [
      "you got 13 kdj codes: ['600022', '600348', '600885', '601168', '601678', '000878', '000897', '000937', '002051', '002078', '002092', '002249', '002505']\n"
     ]
    }
   ],
   "source": [
    "print('you got',len(kd_codes),'kdj codes:',kd_codes)"
   ]
  },
  {
   "cell_type": "code",
   "execution_count": 13,
   "metadata": {},
   "outputs": [
    {
     "name": "stdout",
     "output_type": "stream",
     "text": [
      "you got 24 kdj codes: ['600006', '600037', '600108', '600125', '600338', '600418', '600648', '600694', '600869', '601002', '601127', '603816', '000025', '000513', '000592', '000758', '000766', '000807', '000970', '002051', '002251', '002345', '002407', '300134']\n"
     ]
    }
   ],
   "source": [
    "print('you got',len(ma_codes),'kdj codes:',ma_codes)"
   ]
  },
  {
   "cell_type": "code",
   "execution_count": 14,
   "metadata": {},
   "outputs": [
    {
     "name": "stdout",
     "output_type": "stream",
     "text": [
      "you got 14 kdj codes: ['600259', '600298', '601001', '601699', '603001', '603569', '603589', '000528', '000581', '000592', '000596', '000988', '002056', '002505']\n"
     ]
    }
   ],
   "source": [
    "print('you got',len(macd_codes),'kdj codes:',macd_codes)"
   ]
  },
  {
   "cell_type": "code",
   "execution_count": 19,
   "metadata": {
    "collapsed": true
   },
   "outputs": [],
   "source": [
    "def find_common(list1,list2):\n",
    "    for i in list1:\n",
    "        if i in list2:\n",
    "            yield i\n",
    "            \n",
    "def find_common2(list1,list2):\n",
    "    list_common = []\n",
    "    for i in list1:\n",
    "        if i in list2:\n",
    "            list_common.append(i)\n",
    "    return list_common"
   ]
  },
  {
   "cell_type": "code",
   "execution_count": 20,
   "metadata": {
    "collapsed": true
   },
   "outputs": [],
   "source": [
    "kd_and_ma = find_common(kd_codes,ma_codes)\n",
    "kd_and_ma2 = find_common2(kd_codes,ma_codes)"
   ]
  },
  {
   "cell_type": "code",
   "execution_count": 18,
   "metadata": {},
   "outputs": [
    {
     "data": {
      "text/plain": [
       "['002051']"
      ]
     },
     "execution_count": 18,
     "metadata": {},
     "output_type": "execute_result"
    }
   ],
   "source": [
    "list(kd_and_ma)"
   ]
  },
  {
   "cell_type": "code",
   "execution_count": 21,
   "metadata": {},
   "outputs": [
    {
     "data": {
      "text/plain": [
       "['002051']"
      ]
     },
     "execution_count": 21,
     "metadata": {},
     "output_type": "execute_result"
    }
   ],
   "source": [
    "kd_and_ma2"
   ]
  },
  {
   "cell_type": "code",
   "execution_count": 22,
   "metadata": {
    "collapsed": true
   },
   "outputs": [],
   "source": [
    "kd_and_macd = list(find_common(kd_codes,macd_codes))"
   ]
  },
  {
   "cell_type": "code",
   "execution_count": 23,
   "metadata": {},
   "outputs": [
    {
     "data": {
      "text/plain": [
       "['002505']"
      ]
     },
     "execution_count": 23,
     "metadata": {},
     "output_type": "execute_result"
    }
   ],
   "source": [
    "kd_and_macd"
   ]
  },
  {
   "cell_type": "code",
   "execution_count": 26,
   "metadata": {
    "collapsed": true
   },
   "outputs": [],
   "source": [
    "ma_and_macd = list(find_common(ma_codes,macd_codes))\n",
    "ma_and_macd2 = list(find_common2(ma_codes,macd_codes))"
   ]
  },
  {
   "cell_type": "code",
   "execution_count": 25,
   "metadata": {},
   "outputs": [
    {
     "data": {
      "text/plain": [
       "['000592']"
      ]
     },
     "execution_count": 25,
     "metadata": {},
     "output_type": "execute_result"
    }
   ],
   "source": [
    "ma_and_macd"
   ]
  },
  {
   "cell_type": "code",
   "execution_count": 27,
   "metadata": {},
   "outputs": [
    {
     "data": {
      "text/plain": [
       "['000592']"
      ]
     },
     "execution_count": 27,
     "metadata": {},
     "output_type": "execute_result"
    }
   ],
   "source": [
    "ma_and_macd2"
   ]
  },
  {
   "cell_type": "code",
   "execution_count": 30,
   "metadata": {},
   "outputs": [
    {
     "name": "stdout",
     "output_type": "stream",
     "text": [
      "[1, 111, 55, 32]\n",
      "[1, 111, 55, 32]\n"
     ]
    }
   ],
   "source": [
    "list1 = [1,2,5,6,11,111,55,66,32]\n",
    "list2 = [1,55,44,98,33,32,99,77,111]\n",
    "common12 = list(find_common(list1,list2))\n",
    "common122 = find_common2(list1,list2)\n",
    "print(common12)\n",
    "print(common122)"
   ]
  },
  {
   "cell_type": "code",
   "execution_count": null,
   "metadata": {
    "collapsed": true
   },
   "outputs": [],
   "source": []
  }
 ],
 "metadata": {
  "kernelspec": {
   "display_name": "Python 3",
   "language": "python",
   "name": "python3"
  },
  "language_info": {
   "codemirror_mode": {
    "name": "ipython",
    "version": 3
   },
   "file_extension": ".py",
   "mimetype": "text/x-python",
   "name": "python",
   "nbconvert_exporter": "python",
   "pygments_lexer": "ipython3",
   "version": "3.6.1"
  }
 },
 "nbformat": 4,
 "nbformat_minor": 2
}
